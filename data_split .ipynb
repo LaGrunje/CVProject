{
 "cells": [
  {
   "cell_type": "code",
   "execution_count": 1,
   "id": "cb6810e4",
   "metadata": {},
   "outputs": [],
   "source": [
    "import os\n",
    "import numpy as np\n",
    "from tqdm import tqdm\n",
    "from collections import defaultdict"
   ]
  },
  {
   "cell_type": "code",
   "execution_count": 2,
   "id": "71a14856",
   "metadata": {},
   "outputs": [
    {
     "name": "stdout",
     "output_type": "stream",
     "text": [
      "rm: cannot remove 'train': No such file or directory\n",
      "rm: cannot remove 'val': No such file or directory\n",
      "rm: cannot remove 'test': No such file or directory\n"
     ]
    }
   ],
   "source": [
    "!rm -r train\n",
    "!rm -r val\n",
    "!rm -r test"
   ]
  },
  {
   "cell_type": "code",
   "execution_count": 3,
   "id": "bfc8bd4f",
   "metadata": {},
   "outputs": [],
   "source": [
    "!mkdir train\n",
    "!mkdir val\n",
    "!mkdir test"
   ]
  },
  {
   "cell_type": "code",
   "execution_count": 4,
   "id": "b6664daf",
   "metadata": {},
   "outputs": [],
   "source": [
    "images = sorted(os.listdir('img_align_celeba'))\n",
    "with open('identity_CelebA.txt') as f:\n",
    "    label_mapping = dict([line.replace('\\n', '').split(' ') for line in f.readlines()])\n",
    "    label_mapping = {key: int(value) for key, value in label_mapping.items()}\n",
    "\n",
    "dd = defaultdict(list)\n",
    "\n",
    "for _ in images:\n",
    "    label = label_mapping[_]\n",
    "    dd[label] += [_]\n",
    "\n",
    "chosen = sorted([(key, len(value)) for key, value in dd.items()], key=lambda x: -x[1])[:350]"
   ]
  },
  {
   "cell_type": "code",
   "execution_count": 5,
   "id": "7689d47f",
   "metadata": {},
   "outputs": [],
   "source": [
    "train, val, test = [], [], []\n",
    "\n",
    "for _ in chosen[:300]:\n",
    "    class_members = dd[_[0]]\n",
    "    train_group = np.random.choice(class_members, _[1] * 7 // 10, replace=False)\n",
    "    train += list(train_group)\n",
    "    \n",
    "    class_members_not_in_train = [_ for _ in class_members if _ not in train_group]\n",
    "    val_group = np.random.choice(class_members_not_in_train, len(class_members_not_in_train) * 5 // 10, \n",
    "                                 replace=False)\n",
    "    val += list(val_group)\n",
    "    \n",
    "    test_group = [_ for _ in class_members if (_ not in train_group) and (_ not in val_group)]\n",
    "    test += list(test_group)\n",
    "    \n",
    "for _ in chosen[300:325]:\n",
    "    val += dd[_[0]]\n",
    "    \n",
    "for _ in chosen[325:]:\n",
    "    test += dd[_[0]]"
   ]
  },
  {
   "cell_type": "code",
   "execution_count": 6,
   "id": "cca69016",
   "metadata": {},
   "outputs": [
    {
     "name": "stderr",
     "output_type": "stream",
     "text": [
      "100%|██████████| 6316/6316 [00:07<00:00, 840.21it/s] \n"
     ]
    }
   ],
   "source": [
    "for img in tqdm(train):\n",
    "    filename_old = f'img_align_celeba/{img}'\n",
    "    filename_new = f'train/{img}'\n",
    "    os.system(f'cp {filename_old} {filename_new}')"
   ]
  },
  {
   "cell_type": "code",
   "execution_count": 7,
   "id": "9e665cb4",
   "metadata": {},
   "outputs": [
    {
     "name": "stderr",
     "output_type": "stream",
     "text": [
      "100%|██████████| 1967/1967 [00:02<00:00, 777.71it/s]\n"
     ]
    }
   ],
   "source": [
    "for img in tqdm(val):\n",
    "    filename_old = f'img_align_celeba/{img}'\n",
    "    filename_new = f'val/{img}'\n",
    "    os.system(f'cp {filename_old} {filename_new}')"
   ]
  },
  {
   "cell_type": "code",
   "execution_count": 8,
   "id": "7e8eccd0",
   "metadata": {},
   "outputs": [
    {
     "name": "stderr",
     "output_type": "stream",
     "text": [
      "100%|██████████| 2255/2255 [00:02<00:00, 798.62it/s]\n"
     ]
    }
   ],
   "source": [
    "for img in tqdm(test):\n",
    "    filename_old = f'img_align_celeba/{img}'\n",
    "    filename_new = f'test/{img}'\n",
    "    os.system(f'cp {filename_old} {filename_new}')"
   ]
  }
 ],
 "metadata": {
  "kernelspec": {
   "display_name": "rtx3060_parallel",
   "language": "python",
   "name": "rtx3060_parallel"
  },
  "language_info": {
   "codemirror_mode": {
    "name": "ipython",
    "version": 3
   },
   "file_extension": ".py",
   "mimetype": "text/x-python",
   "name": "python",
   "nbconvert_exporter": "python",
   "pygments_lexer": "ipython3",
   "version": "3.9.12"
  }
 },
 "nbformat": 4,
 "nbformat_minor": 5
}
